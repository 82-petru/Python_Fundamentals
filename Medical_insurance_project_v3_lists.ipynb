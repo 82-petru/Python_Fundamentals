{
 "cells": [
  {
   "cell_type": "markdown",
   "metadata": {},
   "source": [
    "# Medical Insurance Project "
   ]
  },
  {
   "cell_type": "markdown",
   "metadata": {},
   "source": [
    "- i will use Python Lists to store insurance cost data in a list as well as compare estimated insurance costs to actual insurance costs."
   ]
  },
  {
   "cell_type": "markdown",
   "metadata": {},
   "source": [
    "**Setting up the factors**\n",
    "- first step is to create the variables for each factor.\n",
    "        age: age of the individual in years\n",
    "        sex: 0 for female, 1 for male*\n",
    "        bmi: individual’s body mass index\n",
    "        num_of_children: number of children the individual has\n",
    "        smoker: 0 for non-smoker 1 for smoker"
   ]
  },
  {
   "cell_type": "markdown",
   "metadata": {},
   "source": [
    "**Setting up the formula**\n",
    "- insurance_cost=250∗age−128∗sex+370∗bmi+425∗num_of_children+24000∗smoker−12500\n"
   ]
  },
  {
   "cell_type": "markdown",
   "metadata": {},
   "source": [
    "**Creating a list**\n",
    "- import function who calculates the estimated insurance cost \n",
    "- we want to compare the estimated insurance cost to the actual amounts that Maria, Rohan and Valentina paid. \n",
    "- create a list \"names\" and fill in it with the names of the individuals you are estimating insurance cost for \n",
    "- create a list and fill in it with the actual amounts that Maria, Rohan, and Valentina paid for insurance. \n",
    "- create a variable that combines two lists  individual's name and list with actual paid insurance "
   ]
  },
  {
   "cell_type": "code",
   "execution_count": 52,
   "metadata": {},
   "outputs": [],
   "source": [
    "from Calculate_insurance_cost import estimate_insurance_cost"
   ]
  },
  {
   "cell_type": "code",
   "execution_count": 61,
   "metadata": {},
   "outputs": [
    {
     "name": "stdout",
     "output_type": "stream",
     "text": [
      "Maria's Estimated Insurance Cost: 4222.0 dollars.\n",
      "Rohan's Estimated Insurance Cost: 5442.0 dollars.\n",
      "Valentina's Estimated Insurance Cost: 36368.0 dollars.\n",
      "Akira's Estimated Insurance Cost: 2277.0 dollars.\n"
     ]
    }
   ],
   "source": [
    "# Estimate Maria's insurance cost\n",
    "maria_insurance_cost = estimate_insurance_cost(name = \"Maria\", age = 31, sex = 0, bmi = 23.1, num_of_children = 1, smoker = 0)\n",
    "\n",
    "# Estimate Rohan's insurance cost\n",
    "rohan_insurance_cost = estimate_insurance_cost(name = \n",
    "\"Rohan\", age = 25, sex = 1, bmi = 28.5, num_of_children = 3, smoker = 0)\n",
    "\n",
    "# Estimate Valentina's insurance cost\n",
    "valentina_insurance_cost = estimate_insurance_cost(name = \"Valentina\", age = 53, sex = 0, bmi = 31.4, num_of_children = 0, smoker = 1)\n",
    "\n",
    "# Estimate Akira's insurance cost\n",
    "akira_insurance_cost = estimate_insurance_cost(name = \"Akira\", age = 19, sex = 0, bmi = 27.1, num_of_children = 0, smoker = 0)"
   ]
  },
  {
   "cell_type": "code",
   "execution_count": 62,
   "metadata": {},
   "outputs": [],
   "source": [
    "names = [\"Maria\", \"Rohan\", \"Valentina\"]\n",
    "names.append(\"Akira\")"
   ]
  },
  {
   "cell_type": "code",
   "execution_count": 63,
   "metadata": {},
   "outputs": [
    {
     "name": "stdout",
     "output_type": "stream",
     "text": [
      "[('Maria', 4150), ('Rohan', 5320), ('Valentina', 35210), ('Akira', 2930)]\n"
     ]
    }
   ],
   "source": [
    "insurance_costs = [4150, 5320, 35210]\n",
    "insurance_costs.append(2930)\n",
    "insurance_data = list(zip(names, insurance_costs))\n",
    "print(insurance_data)"
   ]
  },
  {
   "cell_type": "markdown",
   "metadata": {},
   "source": [
    "**Appending to a list** \n",
    "- create a empty list, this list will be used to store estimated insurance cost for our theree individuals \n",
    "- use append() to add our estimated insurance data for Maria, Rohan and Valentina "
   ]
  },
  {
   "cell_type": "code",
   "execution_count": 64,
   "metadata": {},
   "outputs": [
    {
     "data": {
      "text/plain": [
       "[('Maria', 4222.0),\n",
       " ('Rohan', 5442.0),\n",
       " ('Valentina', 36368.0),\n",
       " ('Akira', 2277.0)]"
      ]
     },
     "execution_count": 64,
     "metadata": {},
     "output_type": "execute_result"
    }
   ],
   "source": [
    "estimated_insurance_data = []\n",
    "estimated_insurance_data.append((\"Maria\",maria_insurance_cost))\n",
    "estimated_insurance_data.append((\"Rohan\", rohan_insurance_cost))\n",
    "estimated_insurance_data.append((\"Valentina\", valentina_insurance_cost))\n",
    "estimated_insurance_data.append((\"Akira\", akira_insurance_cost))\n",
    "estimated_insurance_data"
   ]
  },
  {
   "cell_type": "markdown",
   "metadata": {},
   "source": [
    "**inspecting the data**\n",
    "- we have two lists one list represent the actual insurance cost and second one represents the estimated insurance cost data \n",
    "- make sure that your data is clean and easy to understand "
   ]
  },
  {
   "cell_type": "code",
   "execution_count": 65,
   "metadata": {},
   "outputs": [
    {
     "name": "stdout",
     "output_type": "stream",
     "text": [
      "Here is the actual insurance cost data: [('Maria', 4150), ('Rohan', 5320), ('Valentina', 35210), ('Akira', 2930)]\n"
     ]
    }
   ],
   "source": [
    "print(\"Here is the actual insurance cost data: {}\".format(insurance_data))"
   ]
  },
  {
   "cell_type": "code",
   "execution_count": 66,
   "metadata": {},
   "outputs": [
    {
     "name": "stdout",
     "output_type": "stream",
     "text": [
      "Here is the estimated insurance cost data: [('Maria', 4222.0), ('Rohan', 5442.0), ('Valentina', 36368.0), ('Akira', 2277.0)]\n"
     ]
    }
   ],
   "source": [
    "print(\"Here is the estimated insurance cost data: {}\".format(estimated_insurance_data))"
   ]
  },
  {
   "cell_type": "markdown",
   "metadata": {},
   "source": [
    "Conclusion:\n",
    "    - there is a difference between actual insurance cost and estimated insurance costs.\n",
    "    - seem that aactual insurance cost has been underestimated"
   ]
  },
  {
   "cell_type": "markdown",
   "metadata": {},
   "source": [
    "**Extra**\n",
    "- lists are data structured in Python that contains multiple pieces of data in one object \n",
    "- calculate the difference between actual and estimate insurance for each individual "
   ]
  },
  {
   "cell_type": "code",
   "execution_count": 93,
   "metadata": {},
   "outputs": [
    {
     "data": {
      "text/plain": [
       "[-72.0, -122.0, -1158.0, 653.0]"
      ]
     },
     "execution_count": 93,
     "metadata": {},
     "output_type": "execute_result"
    }
   ],
   "source": [
    "#  first variant\n",
    "actual_costs = insurance_costs\n",
    "estimated_costs = [maria_insurance_cost, rohan_insurance_cost, valentina_insurance_cost]\n",
    "estimated_costs.append(akira_insurance_cost)\n",
    "insurance_cost_difference = []\n",
    "zip_objects = zip(actual_costs, estimated_costs)\n",
    "for i, j in zip_objects:\n",
    "    insurance_cost_difference.append(i - j)\n",
    "insurance_cost_difference"
   ]
  },
  {
   "cell_type": "code",
   "execution_count": 96,
   "metadata": {},
   "outputs": [
    {
     "name": "stdout",
     "output_type": "stream",
     "text": [
      "The estimated insurance cost has been overestimated: [('Maria', -72.0)]\n",
      "The estimated insurance cost has been overestimated: [('Rohan', -122.0)]\n",
      "The estimated insurance cost has been overestimated: [('Valentina', -1158.0)]\n",
      "The estimated insurance cost has been underestimated: [('Akira', 653.0)]\n"
     ]
    }
   ],
   "source": [
    "# second variant/include names \n",
    "actual_costs = insurance_costs\n",
    "estimated_costs = [maria_insurance_cost, rohan_insurance_cost, valentina_insurance_cost]\n",
    "estimated_costs.append(akira_insurance_cost)\n",
    "insurance_cost_difference = []\n",
    "for i in range(len(actual_costs)):\n",
    "    insurance_cost_difference.append(actual_costs[i] - estimated_costs[i])\n",
    "    append_objects = []\n",
    "    if insurance_cost_difference[i] < 0:\n",
    "        append_objects.append((names[i], insurance_cost_difference[i]))\n",
    "        print(\"The estimated insurance cost has been overestimated: {}\".format(append_objects))\n",
    "    elif insurance_cost_difference[i] > 0:\n",
    "        append_objects.append((names[i], insurance_cost_difference[i]))\n",
    "        print(\"The estimated insurance cost has been underestimated: {}\".format(append_objects))\n",
    "    else:\n",
    "        print(\"The estimated insurance has same cost with actual insurance\")"
   ]
  },
  {
   "cell_type": "code",
   "execution_count": null,
   "metadata": {},
   "outputs": [],
   "source": []
  }
 ],
 "metadata": {
  "kernelspec": {
   "display_name": "Python 3",
   "language": "python",
   "name": "python3"
  },
  "language_info": {
   "codemirror_mode": {
    "name": "ipython",
    "version": 3
   },
   "file_extension": ".py",
   "mimetype": "text/x-python",
   "name": "python",
   "nbconvert_exporter": "python",
   "pygments_lexer": "ipython3",
   "version": "3.7.4"
  }
 },
 "nbformat": 4,
 "nbformat_minor": 2
}

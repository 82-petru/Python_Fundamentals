{
 "cells": [
  {
   "cell_type": "markdown",
   "metadata": {},
   "source": [
    "# Medical Insurance Project"
   ]
  },
  {
   "cell_type": "markdown",
   "metadata": {},
   "source": [
    "In this project, you will use your new knowledge of Python loops to iterate through and analyze medical insurance cost data."
   ]
  },
  {
   "cell_type": "markdown",
   "metadata": {},
   "source": [
    "**1. Creating a foor loop**\n",
    "- first let's have a look at the three lists \n",
    "    - names store the name of the individuals \n",
    "    - estimated_insurance_costs stores the estimated medical insurance costs \n",
    "    - actual_insurance_costs stores the actual medical insurance costs paid by the individual \n",
    "- calculate the average insurance cost for each person paid, create a variable total_costs and initialize it to 0 \n",
    "-  use a for loop to iterate through the actual_insurance_costs and add each insurance cost to the variable total_cost \n",
    "- after the for loop create a variable called average_cost that stores the total_cost divided by the length of the actual_insurance_costs list \n",
    "- print the average_cost"
   ]
  },
  {
   "cell_type": "code",
   "execution_count": 91,
   "metadata": {},
   "outputs": [],
   "source": [
    "names = [\"Judith\", \"Abel\", \"Tyson\", \"Martha\", \"Beverley\", \"David\", \"Anabel\"]\n",
    "estimated_insurance_costs = [1000.0, 2000.0, 3000.0, 4000.0, 5000.0, 6000.0, 7000.0]\n",
    "actual_insurance_costs = [1100.0, 2200.0, 3300.0, 4400.0, 5500.0, 6600.0, 7700.0]"
   ]
  },
  {
   "cell_type": "code",
   "execution_count": 92,
   "metadata": {},
   "outputs": [],
   "source": [
    "total_cost = 0"
   ]
  },
  {
   "cell_type": "code",
   "execution_count": 93,
   "metadata": {},
   "outputs": [
    {
     "data": {
      "text/plain": [
       "4400.0"
      ]
     },
     "execution_count": 93,
     "metadata": {},
     "output_type": "execute_result"
    }
   ],
   "source": [
    "for i in actual_insurance_costs:\n",
    "    total_cost += i\n",
    "    average_cost = total_cost // len(actual_insurance_costs)\n",
    "average_cost"
   ]
  },
  {
   "cell_type": "code",
   "execution_count": 94,
   "metadata": {},
   "outputs": [
    {
     "name": "stdout",
     "output_type": "stream",
     "text": [
      "Average insurance cost: 4400.0 dollars\n"
     ]
    }
   ],
   "source": [
    "print(\"Average insurance cost: {} dollars\".format(round(average_cost, 1)))"
   ]
  },
  {
   "cell_type": "markdown",
   "metadata": {},
   "source": [
    "**2. Use range in loops**\n",
    "- determine whether insurance cost is above or below average\n",
    "    - create a for loop that goes from 0 to len(names) \n",
    "- inside the for loop do the following \n",
    "    - create a variable name which stores names[i]\n",
    "    - create a variable insurance_cost, which stores actual_insurance_costs[i]\n",
    "    - print out the insurance for each individual\n",
    "- inside the for loop use if, elif, else statements after the print statements to check wheteher the insurance cost is above , below, or equal to the average \n",
    "- print out the result "
   ]
  },
  {
   "cell_type": "code",
   "execution_count": 95,
   "metadata": {},
   "outputs": [
    {
     "name": "stdout",
     "output_type": "stream",
     "text": [
      "The insurance cost for Judith is 1100.0 dollars\n",
      "The insurance cost for Judith is below average\n",
      "The insurance cost for Abel is 2200.0 dollars\n",
      "The insurance cost for Abel is below average\n",
      "The insurance cost for Tyson is 3300.0 dollars\n",
      "The insurance cost for Tyson is below average\n",
      "The insurance cost for Martha is 4400.0 dollars\n",
      "The insurance cost for Martha is equal to the average.\n",
      "The insurance cost for Beverley is 5500.0 dollars\n",
      "The insurance cost for Beverley is above average\n",
      "The insurance cost for David is 6600.0 dollars\n",
      "The insurance cost for David is above average\n",
      "The insurance cost for Anabel is 7700.0 dollars\n",
      "The insurance cost for Anabel is above average\n"
     ]
    }
   ],
   "source": [
    "for i in range(len(names)):\n",
    "    name = names[i]\n",
    "    insurance_cost = actual_insurance_costs[i]\n",
    "    print( \"The insurance cost for {} is {} dollars\".format(name, insurance_cost))  \n",
    "    if insurance_cost > average_cost:\n",
    "        print(\"The insurance cost for {} is above average\".format(name))\n",
    "    elif insurance_cost < average_cost:\n",
    "        print(\"The insurance cost for {} is below average\".format(name))\n",
    "    else:\n",
    "        print(\"The insurance cost for {} is equal to the average.\".format(name))"
   ]
  },
  {
   "cell_type": "markdown",
   "metadata": {},
   "source": [
    "**3. list comprehension**\n",
    "- using a list comprehensio, create a new list called updated_estimated_costs which has each element in estimated_insurance_cost multiplied by 11/10 \n",
    "- print out the result "
   ]
  },
  {
   "cell_type": "code",
   "execution_count": 96,
   "metadata": {},
   "outputs": [],
   "source": [
    "updated_estimated_costs = [1.1 * i for i in estimated_insurance_costs]\n"
   ]
  },
  {
   "cell_type": "code",
   "execution_count": 97,
   "metadata": {},
   "outputs": [
    {
     "name": "stdout",
     "output_type": "stream",
     "text": [
      "[1100.0, 2200.0, 3300.0000000000005, 4400.0, 5500.0, 6600.000000000001, 7700.000000000001]\n"
     ]
    }
   ],
   "source": [
    "print(updated_estimated_costs)"
   ]
  },
  {
   "cell_type": "markdown",
   "metadata": {},
   "source": [
    "**Extra**\n",
    "- Convert the first for loop in the code to a while loop.\n",
    "- Modify the second for loop so that it also calculates how far above or below the average the estimated insurance cost is."
   ]
  },
  {
   "cell_type": "code",
   "execution_count": 98,
   "metadata": {},
   "outputs": [
    {
     "name": "stdout",
     "output_type": "stream",
     "text": [
      "4400.0\n"
     ]
    }
   ],
   "source": [
    "i =  len(actual_insurance_costs)\n",
    "total_cost = 0\n",
    "while i < 0:\n",
    "    total_cost += actual_insurance_cost[i]\n",
    "    average_cost = total_cost / len(actual_insurance_costs)\n",
    "    i += 1\n",
    "print(average_cost)"
   ]
  },
  {
   "cell_type": "code",
   "execution_count": 100,
   "metadata": {},
   "outputs": [
    {
     "name": "stdout",
     "output_type": "stream",
     "text": [
      "[-3400.0, -2400.0, -1400.0, -400.0, 600.0, 1600.0, 2600.0]\n"
     ]
    }
   ],
   "source": [
    "result = []\n",
    "for i in estimated_insurance_costs:\n",
    "    estimated_to_average = i - average_cost\n",
    "    result.append(estimated_to_average)\n",
    "print(result)"
   ]
  },
  {
   "cell_type": "code",
   "execution_count": null,
   "metadata": {},
   "outputs": [],
   "source": []
  }
 ],
 "metadata": {
  "kernelspec": {
   "display_name": "Python 3",
   "language": "python",
   "name": "python3"
  },
  "language_info": {
   "codemirror_mode": {
    "name": "ipython",
    "version": 3
   },
   "file_extension": ".py",
   "mimetype": "text/x-python",
   "name": "python",
   "nbconvert_exporter": "python",
   "pygments_lexer": "ipython3",
   "version": "3.7.4"
  }
 },
 "nbformat": 4,
 "nbformat_minor": 2
}

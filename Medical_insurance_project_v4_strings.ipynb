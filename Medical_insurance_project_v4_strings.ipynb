{
 "cells": [
  {
   "cell_type": "markdown",
   "metadata": {},
   "source": [
    "# Medical Insurance Project"
   ]
  },
  {
   "cell_type": "markdown",
   "metadata": {},
   "source": [
    "I am a doctor who needs to clean up medical patient records, which are currently stored in one large string. "
   ]
  },
  {
   "cell_type": "markdown",
   "metadata": {},
   "source": [
    "**1. Working with strings**\n",
    "-  the string medical data records medical records for ten individuals, each record is separated by a semicolon and contain the name, age, BMI and cost insurance, in that order.\n",
    "- print medical_data\n",
    "- replace all instances of \"#\" in medical_data with dollars store the result i a variable called updated_medical_data\n",
    "- print out updated_medical_data\n",
    "- calculate the number of records from our data, write a for loop to iterate through updated_medical_data string. Inside of the loop , add 1 to num_records when the current character is equal to '$' \n",
    "- print num_records outside the loop  \n"
   ]
  },
  {
   "cell_type": "code",
   "execution_count": 2,
   "metadata": {},
   "outputs": [],
   "source": [
    "medical_data = \\\n",
    "\"\"\"Marina Allison   ,27   ,   31.1 , #7010.0   ;Markus Valdez   ,   30, \n",
    "22.4,   #4050.0 ;Connie Ballard ,43 ,   25.3 , #12060.0 ;Darnell Weber   ,   35   , 20.6   , #7500.0;Sylvie Charles   \n",
    ",22, 22.1 ,#3022.0   ;   Vinay Padilla,24,   \n",
    "26.9 ,#4620.0 ;Meredith Santiago, 51   , 29.3 ,#16330.0;   Andre Mccarty, 19,22.7 , #2900.0 ; Lorena Hodson ,65,\n",
    "33.1 , #19370.0; Isaac Vu ,34, 24.8,   #7045.0\"\"\""
   ]
  },
  {
   "cell_type": "code",
   "execution_count": 3,
   "metadata": {},
   "outputs": [
    {
     "name": "stdout",
     "output_type": "stream",
     "text": [
      "Marina Allison   ,27   ,   31.1 , #7010.0   ;Markus Valdez   ,   30, \n",
      "22.4,   #4050.0 ;Connie Ballard ,43 ,   25.3 , #12060.0 ;Darnell Weber   ,   35   , 20.6   , #7500.0;Sylvie Charles   \n",
      ",22, 22.1 ,#3022.0   ;   Vinay Padilla,24,   \n",
      "26.9 ,#4620.0 ;Meredith Santiago, 51   , 29.3 ,#16330.0;   Andre Mccarty, 19,22.7 , #2900.0 ; Lorena Hodson ,65,\n",
      "33.1 , #19370.0; Isaac Vu ,34, 24.8,   #7045.0\n"
     ]
    }
   ],
   "source": [
    "print(medical_data)"
   ]
  },
  {
   "cell_type": "code",
   "execution_count": 6,
   "metadata": {},
   "outputs": [
    {
     "data": {
      "text/plain": [
       "'Marina Allison   ,27   ,   31.1 , $7010.0   ;Markus Valdez   ,   30, \\n22.4,   $4050.0 ;Connie Ballard ,43 ,   25.3 , $12060.0 ;Darnell Weber   ,   35   , 20.6   , $7500.0;Sylvie Charles   \\n,22, 22.1 ,$3022.0   ;   Vinay Padilla,24,   \\n26.9 ,$4620.0 ;Meredith Santiago, 51   , 29.3 ,$16330.0;   Andre Mccarty, 19,22.7 , $2900.0 ; Lorena Hodson ,65,\\n33.1 , $19370.0; Isaac Vu ,34, 24.8,   $7045.0'"
      ]
     },
     "execution_count": 6,
     "metadata": {},
     "output_type": "execute_result"
    }
   ],
   "source": [
    "updated_medical_data = medical_data.replace('#', '$')\n",
    "updated_medical_data"
   ]
  },
  {
   "cell_type": "code",
   "execution_count": 9,
   "metadata": {},
   "outputs": [],
   "source": [
    "num_records = 0 \n",
    "for i in updated_medical_data:\n",
    "    if i == '$':\n",
    "        num_records += 1"
   ]
  },
  {
   "cell_type": "code",
   "execution_count": 11,
   "metadata": {},
   "outputs": [
    {
     "name": "stdout",
     "output_type": "stream",
     "text": [
      "There are 10 medical records in the data\n"
     ]
    }
   ],
   "source": [
    "print(\"There are {} medical records in the data\".format(num_records))"
   ]
  },
  {
   "cell_type": "markdown",
   "metadata": {},
   "source": [
    "**Splitting strings**\n",
    "- let's by splitting the updated_medical_data into a list of each medical record, each medical record is splitted by semicolon, store the result in a variable called medical_data_split \n",
    "- print out the result\n",
    "- let's split each medical record into it's own list, first define an empty list and call it medical_record\n",
    "- iterate through the medical_data_split and for each record split the string after each comma and append data to medical records "
   ]
  },
  {
   "cell_type": "code",
   "execution_count": 15,
   "metadata": {},
   "outputs": [],
   "source": [
    "medical_data_split = updated_medical_data.split(';')"
   ]
  },
  {
   "cell_type": "code",
   "execution_count": 14,
   "metadata": {},
   "outputs": [
    {
     "name": "stdout",
     "output_type": "stream",
     "text": [
      "['Marina Allison   ,27   ,   31.1 , $7010.0   ', 'Markus Valdez   ,   30, \\n22.4,   $4050.0 ', 'Connie Ballard ,43 ,   25.3 , $12060.0 ', 'Darnell Weber   ,   35   , 20.6   , $7500.0', 'Sylvie Charles   \\n,22, 22.1 ,$3022.0   ', '   Vinay Padilla,24,   \\n26.9 ,$4620.0 ', 'Meredith Santiago, 51   , 29.3 ,$16330.0', '   Andre Mccarty, 19,22.7 , $2900.0 ', ' Lorena Hodson ,65,\\n33.1 , $19370.0', ' Isaac Vu ,34, 24.8,   $7045.0']\n"
     ]
    }
   ],
   "source": [
    "print(medical_data_split)"
   ]
  },
  {
   "cell_type": "code",
   "execution_count": 17,
   "metadata": {},
   "outputs": [
    {
     "data": {
      "text/plain": [
       "[['Marina Allison   ', '27   ', '   31.1 ', ' $7010.0   '],\n",
       " ['Markus Valdez   ', '   30', ' \\n22.4', '   $4050.0 '],\n",
       " ['Connie Ballard ', '43 ', '   25.3 ', ' $12060.0 '],\n",
       " ['Darnell Weber   ', '   35   ', ' 20.6   ', ' $7500.0'],\n",
       " ['Sylvie Charles   \\n', '22', ' 22.1 ', '$3022.0   '],\n",
       " ['   Vinay Padilla', '24', '   \\n26.9 ', '$4620.0 '],\n",
       " ['Meredith Santiago', ' 51   ', ' 29.3 ', '$16330.0'],\n",
       " ['   Andre Mccarty', ' 19', '22.7 ', ' $2900.0 '],\n",
       " [' Lorena Hodson ', '65', '\\n33.1 ', ' $19370.0'],\n",
       " [' Isaac Vu ', '34', ' 24.8', '   $7045.0']]"
      ]
     },
     "execution_count": 17,
     "metadata": {},
     "output_type": "execute_result"
    }
   ],
   "source": [
    "medical_records = []\n",
    "for i in medical_data_split:\n",
    "    medical_records.append(i.split(','))\n",
    "medical_records"
   ]
  },
  {
   "cell_type": "markdown",
   "metadata": {},
   "source": [
    "**Cleaning Data** \n",
    "- our data are not properly formatted - it contains unnecessary whitespaces \n",
    "- let's start by creating an empty list called medical_records_clean.\n",
    "- use a for loop to iterate through medical records. Inside of the loop create an empty list called record_clean, this list will help us to store a formatted version of each medical record  \n",
    "- after the empty lists record_clean create a nested loop that goes through each record\n",
    "- inside this loop append item.strip() to record_clean to remove any whitespaces from the string \n",
    "- strip() method removes spaces at the begining and at the end of the string \n",
    "- outside the nested loop append record_clean to medical_records_clean ]\n",
    "-  finnaly print out medical_records_clean outside the for loop "
   ]
  },
  {
   "cell_type": "code",
   "execution_count": 21,
   "metadata": {},
   "outputs": [],
   "source": [
    "medical_records_clean = []\n",
    "for record in medical_records:\n",
    "    record_clean = []\n",
    "    for item in record:\n",
    "        record_clean.append(item.strip())\n",
    "    medical_records_clean.append(record_clean)   "
   ]
  },
  {
   "cell_type": "code",
   "execution_count": 23,
   "metadata": {},
   "outputs": [
    {
     "name": "stdout",
     "output_type": "stream",
     "text": [
      "[['Marina Allison', '27', '31.1', '$7010.0'], ['Markus Valdez', '30', '22.4', '$4050.0'], ['Connie Ballard', '43', '25.3', '$12060.0'], ['Darnell Weber', '35', '20.6', '$7500.0'], ['Sylvie Charles', '22', '22.1', '$3022.0'], ['Vinay Padilla', '24', '26.9', '$4620.0'], ['Meredith Santiago', '51', '29.3', '$16330.0'], ['Andre Mccarty', '19', '22.7', '$2900.0'], ['Lorena Hodson', '65', '33.1', '$19370.0'], ['Isaac Vu', '34', '24.8', '$7045.0']]\n"
     ]
    }
   ],
   "source": [
    "print(medical_records_clean)"
   ]
  },
  {
   "cell_type": "markdown",
   "metadata": {},
   "source": [
    "**Analyzing Data**\n",
    "- data is clean and ready for analyzing \n",
    "- you want all the names from medical records to be uppercase characters \n",
    "- let's store each name, age, BMI and insurance cost in separate lists, create a empty list for each feature\n",
    "- iterate through medical_record_clean and for each record append  the afferent value to the empty list\n",
    "- print out the result \n",
    "- let's calculate the average BMI in our dataset, first create a variable called total_bmi and set it to 0 \n",
    "- next, iterate through the bmis and add each bmi to total_bmi, at end convert bmi to float \n",
    "- after the foor loop, create a variable called average_bmi theat stores the total_bmi divided by the length of the bmis list \n",
    "- print out the result "
   ]
  },
  {
   "cell_type": "code",
   "execution_count": 51,
   "metadata": {
    "scrolled": true
   },
   "outputs": [
    {
     "name": "stdout",
     "output_type": "stream",
     "text": [
      "MARINA ALLISON\n",
      "MARKUS VALDEZ\n",
      "CONNIE BALLARD\n",
      "DARNELL WEBER\n",
      "SYLVIE CHARLES\n",
      "VINAY PADILLA\n",
      "MEREDITH SANTIAGO\n",
      "ANDRE MCCARTY\n",
      "LORENA HODSON\n",
      "ISAAC VU\n"
     ]
    }
   ],
   "source": [
    "for name in medical_records_clean:\n",
    "    uppercase = name[0].upper()\n",
    "    print(uppercase)"
   ]
  },
  {
   "cell_type": "code",
   "execution_count": 52,
   "metadata": {},
   "outputs": [],
   "source": [
    "\n"
   ]
  },
  {
   "cell_type": "code",
   "execution_count": 53,
   "metadata": {},
   "outputs": [],
   "source": [
    "for record in medical_records_clean:\n",
    "    names.append(record[0].upper())\n",
    "    age.append(record[1])\n",
    "    bmis.append(record[2])\n",
    "    insurance_cost.append(record[3])"
   ]
  },
  {
   "cell_type": "code",
   "execution_count": 54,
   "metadata": {},
   "outputs": [
    {
     "name": "stdout",
     "output_type": "stream",
     "text": [
      "['MARINA ALLISON', 'MARKUS VALDEZ', 'CONNIE BALLARD', 'DARNELL WEBER', 'SYLVIE CHARLES', 'VINAY PADILLA', 'MEREDITH SANTIAGO', 'ANDRE MCCARTY', 'LORENA HODSON', 'ISAAC VU']\n"
     ]
    }
   ],
   "source": [
    "print(names)"
   ]
  },
  {
   "cell_type": "code",
   "execution_count": 55,
   "metadata": {},
   "outputs": [
    {
     "name": "stdout",
     "output_type": "stream",
     "text": [
      "['27', '30', '43', '35', '22', '24', '51', '19', '65', '34']\n"
     ]
    }
   ],
   "source": [
    "print(age)"
   ]
  },
  {
   "cell_type": "code",
   "execution_count": 56,
   "metadata": {},
   "outputs": [
    {
     "name": "stdout",
     "output_type": "stream",
     "text": [
      "['31.1', '22.4', '25.3', '20.6', '22.1', '26.9', '29.3', '22.7', '33.1', '24.8']\n"
     ]
    }
   ],
   "source": [
    "print(bmis)"
   ]
  },
  {
   "cell_type": "code",
   "execution_count": 57,
   "metadata": {},
   "outputs": [
    {
     "name": "stdout",
     "output_type": "stream",
     "text": [
      "['$7010.0', '$4050.0', '$12060.0', '$7500.0', '$3022.0', '$4620.0', '$16330.0', '$2900.0', '$19370.0', '$7045.0']\n"
     ]
    }
   ],
   "source": [
    "print(insurance_cost)"
   ]
  },
  {
   "cell_type": "code",
   "execution_count": 70,
   "metadata": {},
   "outputs": [],
   "source": [
    "total_bmi = 0\n",
    "for bmi in bmis:\n",
    "    total_bmi += float(bmi)\n",
    "    average_bmi = total_bmi / len(bmis)"
   ]
  },
  {
   "cell_type": "code",
   "execution_count": 71,
   "metadata": {},
   "outputs": [
    {
     "name": "stdout",
     "output_type": "stream",
     "text": [
      "Average BMI: 26\n"
     ]
    }
   ],
   "source": [
    "print(\"Average BMI: {}\".format(round(average_bmi), 2))"
   ]
  },
  {
   "cell_type": "markdown",
   "metadata": {},
   "source": [
    "**Extra**\n",
    "\n",
    "Congratulation!! In this project, you used python strings to transform and clean up medical data. \n",
    "- for extra practice with python strings, here are some suggestions \n",
    "    - calculate the average insurance cost in insurance_cost, remove the sign dollars in order to proceed \n",
    "    - write a for lop that display a string for each individual in the following format \n"
   ]
  },
  {
   "cell_type": "code",
   "execution_count": 73,
   "metadata": {},
   "outputs": [
    {
     "name": "stdout",
     "output_type": "stream",
     "text": [
      "8390.7\n"
     ]
    }
   ],
   "source": [
    "total_insurance_cost = 0\n",
    "for cost in insurance_cost:\n",
    "    total_insurance_cost += float(cost.strip(\"$\"))\n",
    "    average_insurance_cost = total_insurance_cost / len(insurance_cost)\n",
    "print(average_insurance_cost)"
   ]
  },
  {
   "cell_type": "code",
   "execution_count": 76,
   "metadata": {},
   "outputs": [
    {
     "name": "stdout",
     "output_type": "stream",
     "text": [
      "Marina Allison is 27 year olds with a BMI of 31.1 and an insurance cost of $$7010.0.\n",
      "Markus Valdez is 30 year olds with a BMI of 22.4 and an insurance cost of $$4050.0.\n",
      "Connie Ballard is 43 year olds with a BMI of 25.3 and an insurance cost of $$12060.0.\n",
      "Darnell Weber is 35 year olds with a BMI of 20.6 and an insurance cost of $$7500.0.\n",
      "Sylvie Charles is 22 year olds with a BMI of 22.1 and an insurance cost of $$3022.0.\n",
      "Vinay Padilla is 24 year olds with a BMI of 26.9 and an insurance cost of $$4620.0.\n",
      "Meredith Santiago is 51 year olds with a BMI of 29.3 and an insurance cost of $$16330.0.\n",
      "Andre Mccarty is 19 year olds with a BMI of 22.7 and an insurance cost of $$2900.0.\n",
      "Lorena Hodson is 65 year olds with a BMI of 33.1 and an insurance cost of $$19370.0.\n",
      "Isaac Vu is 34 year olds with a BMI of 24.8 and an insurance cost of $$7045.0.\n"
     ]
    }
   ],
   "source": [
    "for record in medical_records_clean:\n",
    "    print(\"{} is {} year olds with a BMI of {} and an insurance cost of ${}.\".format(record[0], record[1], record[2], record[3]))"
   ]
  },
  {
   "cell_type": "code",
   "execution_count": null,
   "metadata": {},
   "outputs": [],
   "source": []
  }
 ],
 "metadata": {
  "kernelspec": {
   "display_name": "Python 3",
   "language": "python",
   "name": "python3"
  },
  "language_info": {
   "codemirror_mode": {
    "name": "ipython",
    "version": 3
   },
   "file_extension": ".py",
   "mimetype": "text/x-python",
   "name": "python",
   "nbconvert_exporter": "python",
   "pygments_lexer": "ipython3",
   "version": "3.7.4"
  }
 },
 "nbformat": 4,
 "nbformat_minor": 2
}

{
 "cells": [
  {
   "cell_type": "markdown",
   "metadata": {},
   "source": [
    "# Medical Insurance Project"
   ]
  },
  {
   "cell_type": "markdown",
   "metadata": {},
   "source": [
    "**Project summarise**\n",
    "- suppose you are a medical prefessional (cadru medical) curious about how a certain factors contribute to the medical insurance costs.\n",
    "- using a formula that estimate the person's medical insurance cost, you'll investigate how different factors such as age, BMI, sex etc affect the prediction "
   ]
  },
  {
   "cell_type": "markdown",
   "metadata": {},
   "source": [
    "**Setting up the factors**\n",
    "- first step is to create the variables for each factor.\n",
    "        age: age of the individual in years\n",
    "        sex: 0 for female, 1 for male*\n",
    "        bmi: individual’s body mass index\n",
    "        num_of_children: number of children the individual has\n",
    "        smoker: 0 for a non-smoker, 1 for a smoker\n",
    "- create the following variables for a 28-years old  nonsmoking woman who has three childreen"
   ]
  },
  {
   "cell_type": "code",
   "execution_count": 2,
   "metadata": {},
   "outputs": [],
   "source": [
    "age = 28\n",
    "sex = 0\n",
    "bmi = 26.2\n",
    "num_of_children = 3\n",
    "smoker = 0 "
   ]
  },
  {
   "cell_type": "markdown",
   "metadata": {},
   "source": [
    "**Setting up the formula**\n",
    "\n",
    "- create the formula "
   ]
  },
  {
   "cell_type": "code",
   "execution_count": 3,
   "metadata": {},
   "outputs": [
    {
     "name": "stdout",
     "output_type": "stream",
     "text": [
      "The person's insurance cost is 15469.0 dollars.\n"
     ]
    }
   ],
   "source": [
    "insurance_cost = 250*age -128*sex + 370*bmi + 425*num_of_children + 24000*smoker-2500\n",
    "print(\"The person's insurance cost is {} dollars.\".format(insurance_cost))"
   ]
  },
  {
   "cell_type": "markdown",
   "metadata": {},
   "source": [
    "**Looking at age Factor**\n",
    "- let's play with some individual factors to see what role each one plays in our estimation !\n",
    "- let's start with age, add 4 years to our age variable\n",
    "- find the difference between new_insurance_cost and insurance_cost, to do this create a new variable change_in_insurance_cost. "
   ]
  },
  {
   "cell_type": "code",
   "execution_count": 4,
   "metadata": {},
   "outputs": [
    {
     "name": "stdout",
     "output_type": "stream",
     "text": [
      "The person's insurance cost is 16469.0 dollars.\n"
     ]
    }
   ],
   "source": [
    "age += 4\n",
    "new_insurance_cost = 250*age - 128*sex + 370*bmi + 425*num_of_children + 24000*smoker-2500\n",
    "print(\"The person's insurance cost is {} dollars.\".format(new_insurance_cost))"
   ]
  },
  {
   "cell_type": "code",
   "execution_count": 5,
   "metadata": {},
   "outputs": [
    {
     "name": "stdout",
     "output_type": "stream",
     "text": [
      "The change in cost of insurance after increasing the age by 4 years is 1000.0 dollars.\n"
     ]
    }
   ],
   "source": [
    "change_in_insurance_cost = new_insurance_cost - insurance_cost\n",
    "print(\"The change in cost of insurance after increasing the age by 4 years is {} dollars.\".format(change_in_insurance_cost))"
   ]
  },
  {
   "cell_type": "markdown",
   "metadata": {},
   "source": [
    "**Loking at the BMI factor** \n",
    "- let's have a look to the BMI factor \n",
    "- on the next line set BMI factor to 3.1 and set back the age to 28\n",
    "- next step is pretty much the same as we have done before when looking at age \n",
    "- find the difference between new_insurance_cost and insurance_cost, to do this create a new variable change_in_insurance_cost."
   ]
  },
  {
   "cell_type": "code",
   "execution_count": 6,
   "metadata": {},
   "outputs": [
    {
     "name": "stdout",
     "output_type": "stream",
     "text": [
      "The person's insurance cost is 16616.0 dollars.\n"
     ]
    }
   ],
   "source": [
    "bmi += 3.1 \n",
    "age = 28 \n",
    "new_insurance_cost = 250*age - 128*sex + 370*bmi + 425*num_of_children + 24000*smoker-2500\n",
    "print(\"The person's insurance cost is {} dollars.\".format(new_insurance_cost))"
   ]
  },
  {
   "cell_type": "code",
   "execution_count": 7,
   "metadata": {},
   "outputs": [
    {
     "name": "stdout",
     "output_type": "stream",
     "text": [
      "The change in cost of insurance after increasing the BMI by 3.1 is 1147.0 dollars.\n"
     ]
    }
   ],
   "source": [
    "change_in_insurance_cost = new_insurance_cost - insurance_cost\n",
    "print(\"The change in cost of insurance after increasing the BMI by 3.1 is {} dollars.\".format(change_in_insurance_cost))"
   ]
  },
  {
   "cell_type": "markdown",
   "metadata": {},
   "source": [
    "**Looking at the male vs female factor**\n",
    "- Let’s look at the effect sex has on medical insurance costs.\n",
    "- reassign your bmi variable back to its original value 26.2 \n",
    "- reassign the value of sex 1, the number 1 identifies male individuals \n",
    "\n",
    "Conclusion: \n",
    "- men tend to have lower medical cost on average than women."
   ]
  },
  {
   "cell_type": "code",
   "execution_count": 10,
   "metadata": {},
   "outputs": [
    {
     "name": "stdout",
     "output_type": "stream",
     "text": [
      "The person's insurance cost is 15341.0 dollars.\n"
     ]
    }
   ],
   "source": [
    "bmi = 26.2\n",
    "sex = 1\n",
    "new_insurance_cost = 250*age - 128*sex + 370*bmi + 425*num_of_children + 24000*smoker-2500\n",
    "print(\"The person's insurance cost is {} dollars.\".format(new_insurance_cost))"
   ]
  },
  {
   "cell_type": "code",
   "execution_count": 12,
   "metadata": {},
   "outputs": [
    {
     "name": "stdout",
     "output_type": "stream",
     "text": [
      "The change in estimated cost of being male instead of female is -128.0 dollars.\n"
     ]
    }
   ],
   "source": [
    "change_in_insurance_cost = new_insurance_cost - insurance_cost\n",
    "print(\"The change in estimated cost of being male instead of female is {} dollars.\".format(change_in_insurance_cost))"
   ]
  },
  {
   "cell_type": "markdown",
   "metadata": {},
   "source": [
    "**Looking at the num of childreen and being a smoker**\n",
    "- let's look whta effect gave number of children on medical cost insurance \n",
    "- find the difference between new_insurance_cost and insurance_cost, to do this create a new variable change_in_insurance_cost.\n",
    "\n",
    "Conclusion:\n",
    "- it is not profitable to be smoker have lots of kids and higher BMI "
   ]
  },
  {
   "cell_type": "code",
   "execution_count": 14,
   "metadata": {},
   "outputs": [
    {
     "name": "stdout",
     "output_type": "stream",
     "text": [
      "The person's insurance cost is 39044.0 dollars.\n"
     ]
    }
   ],
   "source": [
    "num_of_children = 2\n",
    "sex = 0\n",
    "smoker = 1\n",
    "new_insurance_cost = 250*age - 128*sex + 370*bmi + 425*num_of_children + 24000*smoker-2500\n",
    "print(\"The person's insurance cost is {} dollars.\".format(new_insurance_cost))"
   ]
  },
  {
   "cell_type": "code",
   "execution_count": 16,
   "metadata": {},
   "outputs": [
    {
     "name": "stdout",
     "output_type": "stream",
     "text": [
      "The change in cost insurance after having two children and smoker is 23575.0 dollars.\n"
     ]
    }
   ],
   "source": [
    "change_in_insurance_cost = new_insurance_cost - insurance_cost\n",
    "print(\"The change in cost insurance after having two children and smoker is {} dollars.\".format(change_in_insurance_cost))"
   ]
  }
 ],
 "metadata": {
  "kernelspec": {
   "display_name": "Python 3",
   "language": "python",
   "name": "python3"
  },
  "language_info": {
   "codemirror_mode": {
    "name": "ipython",
    "version": 3
   },
   "file_extension": ".py",
   "mimetype": "text/x-python",
   "name": "python",
   "nbconvert_exporter": "python",
   "pygments_lexer": "ipython3",
   "version": "3.7.4"
  }
 },
 "nbformat": 4,
 "nbformat_minor": 2
}

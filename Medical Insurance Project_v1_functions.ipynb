{
 "cells": [
  {
   "cell_type": "markdown",
   "metadata": {},
   "source": [
    "# Medical Insurance Project"
   ]
  },
  {
   "cell_type": "markdown",
   "metadata": {},
   "source": [
    "**Project summarise**\n",
    "- suppose you are a medical prefessional (cadru medical) curious about how a certain factors contribute to the medical insurance costs.\n",
    "- in this project will estimate the insurance cost for two individuals Omar and Maria \n",
    "- this formula is a great candidate for a function because it involves repeating, almost identical command in multiple places "
   ]
  },
  {
   "cell_type": "markdown",
   "metadata": {},
   "source": [
    "**Setting up the factors**\n",
    "- first step is to create the variables for each factor.\n",
    "        age: age of the individual in years\n",
    "        sex: 0 for female, 1 for male*\n",
    "        bmi: individual’s body mass index\n",
    "        num_of_children: number of children the individual has\n",
    "        smoker: 0 for a non-smoker, 1 for a smoker\n"
   ]
  },
  {
   "cell_type": "markdown",
   "metadata": {},
   "source": [
    "**Setting up the formula**\n",
    "- insurance_cost=250∗age−128∗sex+370∗bmi+425∗num_of_children+24000∗smoker−12500\n"
   ]
  },
  {
   "cell_type": "markdown",
   "metadata": {},
   "source": [
    "**Defining a function**\n",
    "- create the function  def calculate_insurance_cost()\n"
   ]
  },
  {
   "cell_type": "code",
   "execution_count": 105,
   "metadata": {},
   "outputs": [],
   "source": [
    "def calculate_insurance_cost():\n",
    "    estimated_cost = 1000\n",
    "    print(\"The estimated insurance cost for this person is {} dollars.\".format(estimated_cost))\n",
    "    return estimated_cost "
   ]
  },
  {
   "cell_type": "markdown",
   "metadata": {},
   "source": [
    "**Adding parameters to a function** \n",
    "- modify the function so that it containts five parameters\n",
    "- change the value of variable estimated_cost from 1000 to our formula for insurance cost "
   ]
  },
  {
   "cell_type": "code",
   "execution_count": 131,
   "metadata": {},
   "outputs": [],
   "source": [
    "def calculate_insurance_cost(age, sex, bmi, num_of_children, smoker):\n",
    "    estimated_cost = 250*age - 128*sex + 370*bmi + 425*num_of_children + 24000*smoker - 12500\n",
    "    return estimated_cost "
   ]
  },
  {
   "cell_type": "markdown",
   "metadata": {},
   "source": [
    "**Calling a function**\n",
    "- estimates Maria's insurance cost\n",
    "- estimates Omar's insurance cost"
   ]
  },
  {
   "cell_type": "code",
   "execution_count": 132,
   "metadata": {},
   "outputs": [
    {
     "name": "stdout",
     "output_type": "stream",
     "text": [
      "The estimated insurance cost for Maria is 5469.0 dollars.\n"
     ]
    }
   ],
   "source": [
    "maria_insurance_cost = calculate_insurance_cost(age = 28, sex = 0,  bmi = 26.2, num_of_children = 3, smoker = 0)\n",
    "print(\"The estimated insurance cost for Maria is {} dollars.\".format(maria_insurance_cost))"
   ]
  },
  {
   "cell_type": "code",
   "execution_count": 133,
   "metadata": {},
   "outputs": [
    {
     "name": "stdout",
     "output_type": "stream",
     "text": [
      "The estimated insurance cost for Omar is 28336.0 dollars.\n"
     ]
    }
   ],
   "source": [
    "omar_insurance_cost =  calculate_insurance_cost(age = 35, sex = 1,  bmi = 22.2, num_of_children = 0, smoker = 1)\n",
    "print(\"The estimated insurance cost for Omar is \" + str(omar_insurance_cost) + \" dollars.\")"
   ]
  },
  {
   "cell_type": "markdown",
   "metadata": {},
   "source": [
    "**Adding new parameters**\n",
    "- adding new parameters to the function called name to replace substring \"this person\"\n",
    "- update function for Maria by passing on name = \"Maria\" name = \"Omar\"\n",
    "- updating the function calls for Maria and Omar "
   ]
  },
  {
   "cell_type": "code",
   "execution_count": 142,
   "metadata": {},
   "outputs": [],
   "source": [
    "def calculate_insurance_cost(name, age, sex, bmi, num_of_children, smoker):\n",
    "    estimated_cost = 1000\n",
    "    print(\"The estimated insurance cost for {} is {} dollars.\".format(name, estimated_cost))\n",
    "    return estimated_cost "
   ]
  },
  {
   "cell_type": "code",
   "execution_count": 143,
   "metadata": {},
   "outputs": [],
   "source": [
    "def calculate_insurance_cost(name, age, sex, bmi, num_of_children, smoker):\n",
    "    estimated_cost = 250*age - 128*sex + 370*bmi + 425*num_of_children + 24000*smoker - 12500\n",
    "    print(\"The estimated insurance cost for {} is {} dollars.\".format(name, estimated_cost))\n",
    "    return estimated_cost "
   ]
  },
  {
   "cell_type": "code",
   "execution_count": 147,
   "metadata": {},
   "outputs": [
    {
     "name": "stdout",
     "output_type": "stream",
     "text": [
      "The estimated insurance cost for Maria is 5469.0 dollars.\n"
     ]
    }
   ],
   "source": [
    "maria_insurance_cost = calculate_insurance_cost(name = \"Maria\", age = 28, sex = 0,  bmi = 26.2, num_of_children = 3, smoker = 0)\n"
   ]
  },
  {
   "cell_type": "code",
   "execution_count": 149,
   "metadata": {},
   "outputs": [
    {
     "name": "stdout",
     "output_type": "stream",
     "text": [
      "The estimated insurance cost for Omar is 28336.0 dollars.\n"
     ]
    }
   ],
   "source": [
    "omar_insurance_cost =  calculate_insurance_cost(name = \"Omar\", age = 35, sex = 1,  bmi = 22.2, num_of_children = 0, smoker = 1)\n"
   ]
  },
  {
   "cell_type": "markdown",
   "metadata": {},
   "source": [
    "**Calculate insurance for yourself**"
   ]
  },
  {
   "cell_type": "code",
   "execution_count": 113,
   "metadata": {},
   "outputs": [],
   "source": [
    "def calculate_insurance_cost(name, age, sex, bmi, num_of_children, smoker):\n",
    "    estimated_cost = 250*age - 128*sex + 370*bmi + 425*num_of_children + 24000*smoker - 12500\n",
    "    print(\"The estimated insurance cost for {} is {} dollars.\".format(name, estimated_cost))\n",
    "    return estimated_cost "
   ]
  },
  {
   "cell_type": "code",
   "execution_count": 115,
   "metadata": {
    "scrolled": true
   },
   "outputs": [
    {
     "name": "stdout",
     "output_type": "stream",
     "text": [
      "The estimated insurance cost for Petru is 4355.0 dollars.\n",
      "4355.0\n"
     ]
    }
   ],
   "source": [
    "petru_insurance_cost = calculate_insurance_cost(name = \"Petru\", age = 37, sex = 1,  bmi = 20.9, num_of_children = 0, smoker = 0)\n",
    "print(petru_insurance_cost)"
   ]
  },
  {
   "cell_type": "markdown",
   "metadata": {},
   "source": [
    "**Extra Practice**\n",
    "- create a function to calculate the differences between the insurance cost(given as inputs) of any two individuals "
   ]
  },
  {
   "cell_type": "code",
   "execution_count": 124,
   "metadata": {},
   "outputs": [
    {
     "data": {
      "text/plain": [
       "5469.0"
      ]
     },
     "execution_count": 124,
     "metadata": {},
     "output_type": "execute_result"
    }
   ],
   "source": [
    "maria_insurance_cost = calculate_insurance_cost(name = \"Maria\", age = 28, sex = 0,  bmi = 26.2, num_of_children = 3, smoker = 0)\n",
    "maria_insurance_cost"
   ]
  },
  {
   "cell_type": "code",
   "execution_count": 125,
   "metadata": {},
   "outputs": [
    {
     "name": "stdout",
     "output_type": "stream",
     "text": [
      "28336.0\n"
     ]
    }
   ],
   "source": [
    "omar_insurance_cost =  calculate_insurance_cost(name = \"Omar\", age = 35, sex = 1,  bmi = 22.2, num_of_children = 0, smoker = 1)\n",
    "print(omar_insurance_cost)"
   ]
  },
  {
   "cell_type": "code",
   "execution_count": 129,
   "metadata": {},
   "outputs": [],
   "source": [
    "def calculate_insurance_difference( individual_1, individual_2):\n",
    "    difference = abs(individual_1 - individual_2)\n",
    "    print(\"The difference in insurance cost is {} dollars.\".format(difference))\n",
    "    return difference"
   ]
  },
  {
   "cell_type": "code",
   "execution_count": 130,
   "metadata": {},
   "outputs": [
    {
     "name": "stdout",
     "output_type": "stream",
     "text": [
      "The difference in insurance cost is 22867.0 dollars.\n"
     ]
    },
    {
     "data": {
      "text/plain": [
       "22867.0"
      ]
     },
     "execution_count": 130,
     "metadata": {},
     "output_type": "execute_result"
    }
   ],
   "source": [
    "calculate_insurance_difference(maria_insurance_cost, omar_insurance_cost)"
   ]
  },
  {
   "cell_type": "code",
   "execution_count": null,
   "metadata": {},
   "outputs": [],
   "source": []
  }
 ],
 "metadata": {
  "kernelspec": {
   "display_name": "Python 3",
   "language": "python",
   "name": "python3"
  },
  "language_info": {
   "codemirror_mode": {
    "name": "ipython",
    "version": 3
   },
   "file_extension": ".py",
   "mimetype": "text/x-python",
   "name": "python",
   "nbconvert_exporter": "python",
   "pygments_lexer": "ipython3",
   "version": "3.7.4"
  }
 },
 "nbformat": 4,
 "nbformat_minor": 2
}

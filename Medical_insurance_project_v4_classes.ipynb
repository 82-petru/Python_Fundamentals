{
 "cells": [
  {
   "cell_type": "markdown",
   "metadata": {},
   "source": [
    "# Medical Insurance Project"
   ]
  },
  {
   "cell_type": "markdown",
   "metadata": {},
   "source": [
    "You have been asked to develop a system that makes it easier to organize patient data. You will create a class that does the following: \n",
    "- take in patient parameters reagarding their personal information. \n",
    "- contains method that allow users to update their information \n",
    "- gives patients insights into their potential medical fees "
   ]
  },
  {
   "cell_type": "markdown",
   "metadata": {},
   "source": [
    "**Building our Constructor**\n",
    "- create a class with name Patient and initiate a method __init__() with two classes variables name and age \n",
    "- let's start by adding in more patient parameters\n",
    "    - sex: patient’s biological identification, 0 for male and 1 for female\n",
    "    - bmi: patient BMI\n",
    "    - num_of_children: number of children patient has\n",
    "    - smoker: patient smoking status, 0 for a non-smoker and 1 for a smoker\n",
    "- add these into __init__ method \n",
    "- let's test our __init__ method and create our first instance variable "
   ]
  },
  {
   "cell_type": "code",
   "execution_count": 4,
   "metadata": {},
   "outputs": [
    {
     "name": "stdout",
     "output_type": "stream",
     "text": [
      "John Dee is a male 25 old with BMI 22.2 and with 0 children\n"
     ]
    }
   ],
   "source": [
    "class Patient:\n",
    "    def __init__(self, name, age, sex, bmi, num_of_children, smoker):\n",
    "        self.name = name \n",
    "        self.age = age \n",
    "        self.sex = sex\n",
    "        self.bmi = bmi\n",
    "        self.num_of_children = num_of_children\n",
    "        self.smoker = smoker \n",
    "patient1 = Patient(\"John Dee\", 25, 1, 22.2, 0, 0)\n",
    "print(\"{} is a male {} old with BMI {} and with {} children.\".format(patient1.name, patient1.age, patient1.bmi, patient.num_of_children))"
   ]
  },
  {
   "cell_type": "markdown",
   "metadata": {},
   "source": [
    "**Adding Functionality and Methods**\n",
    "- let's build our first method estimated_insurance_cost() which takes our instances's parameters and returns their expected yearly medical fees. \n",
    "- below the constructor __init__() define our estimated_insurance_cost() constructor which only takes the self as an argument inside this method add the following formula.\n",
    "- add a print statement thet display the following information, then test out this method using the patient instance variable \n",
    "- create a new method that allows us to update patient's parameters and recalculate estimated medical fees in one swing \n",
    "- first create an update_age() method, it should take two arguments self and new_age. In this method reassign self.age to new_age \n",
    "- test out your method using patient1 instance variable \n",
    "- let's see the new insurance expenses are? Call the method estimated_insurance_cost() inside the update_age()\n",
    "- test out the method with patient1\n",
    "- let's make another update method that modifieas the num_of_children parameter.\n",
    "- test out the method, use the following line of code. What do you nottice? For i child the statement is not gramatically corect. How can we combat this? \n",
    "- use control flow to accurately convey when we should use the noun \"children\" and should use \"child \n",
    "- call our method estimated_insurance_cost() at the end"
   ]
  },
  {
   "cell_type": "code",
   "execution_count": 40,
   "metadata": {},
   "outputs": [
    {
     "name": "stdout",
     "output_type": "stream",
     "text": [
      "John Dee's estimated insurance cost is 1836.0 dollars.\n",
      "John Dee is now 26 years old\n",
      "John Dee's estimated insurance cost is 2086.0 dollars.\n",
      "John Dee has 1 child\n",
      "John Dee's estimated insurance cost is 2511.0 dollars.\n"
     ]
    }
   ],
   "source": [
    "class Patient:\n",
    "    def __init__(self, name, age, sex, bmi, num_children, smoker):\n",
    "        self.name = name \n",
    "        self.age = age \n",
    "        self.sex = sex\n",
    "        self.bmi = bmi\n",
    "        self.num_children = num_children\n",
    "        self.smoker = smoker \n",
    "        \n",
    "    def estimated_insurance_cost(self):\n",
    "        estimated_cost = 250 * self.age - 128 * self.sex + 370 * self.bmi + 425 * self.num_children + 24000 * self.smoker - 12500\n",
    "        print(\"{}'s estimated insurance cost is {} dollars.\".format(self.name, estimated_cost))\n",
    "    \n",
    "    def update_age(self, new_age):\n",
    "        self.age = new_age\n",
    "        print(\"{} is now {} years old\".format(self.name, new_age))\n",
    "        self.estimated_insurance_cost()\n",
    "    \n",
    "    def update_num_of_children(self, new_num_children):\n",
    "        self.num_children = new_num_children\n",
    "        if new_num_children > 1:\n",
    "            print('{} has {} children'.format(self.name, new_num_children))\n",
    "        else: \n",
    "            print('{} has {} child'.format(self.name, new_num_children))\n",
    "        self.estimated_insurance_cost()\n",
    "        \n",
    "        \n",
    "patient1 = Patient(\"John Dee\", 25, 1, 22.2, 0, 0)\n",
    "patient1.estimated_insurance_cost()\n",
    "patient1.update_age(26)\n",
    "patient1.update_num_of_children(1)"
   ]
  },
  {
   "cell_type": "markdown",
   "metadata": {},
   "source": [
    "**Storing patient information**\n",
    "\n",
    "Let’s create one last method that uses a dictionary to store a patient’s information in one convenient variable. We can use our parameters as the keys and their specific data as the values.\n",
    "- define a method called patient_profile() that builds a dictionary called patient_information to hold all of our patient's information \n",
    "- tets out the method \n"
   ]
  },
  {
   "cell_type": "code",
   "execution_count": 44,
   "metadata": {},
   "outputs": [
    {
     "name": "stdout",
     "output_type": "stream",
     "text": [
      "{'Name': 'John Dee', 'Age': 25, 'Sex': 1, 'BMI': 22.2, 'Number of children': 0, 'Smoker': 0}\n"
     ]
    }
   ],
   "source": [
    "class Patient:\n",
    "    def __init__(self, name, age, sex, bmi, num_children, smoker):\n",
    "        self.name = name \n",
    "        self.age = age \n",
    "        self.sex = sex\n",
    "        self.bmi = bmi\n",
    "        self.num_children = num_children\n",
    "        self.smoker = smoker \n",
    "        \n",
    "    def estimated_insurance_cost(self):\n",
    "        try:\n",
    "            estimated_cost = 250 * self.age - 128 * self.sex + 370 * self.bmi + 425 * self.num_children + 24000 * self.smoker - 12500\n",
    "            print(\"{}'s estimated insurance cost is {} dollars.\".format(self.name, estimated_cost))\n",
    "        except TypeError:\n",
    "            print('TypeError Exception Raised')\n",
    "    \n",
    "    def update_age(self, new_age):\n",
    "        self.age = new_age\n",
    "        print(\"{} is now {} years old\".format(self.name, new_age))\n",
    "        self.estimated_insurance_cost()\n",
    "    \n",
    "    def update_num_of_children(self, new_num_children):\n",
    "        self.num_children = new_num_children\n",
    "        if new_num_children > 1:\n",
    "            print('{} has {} children'.format(self.name, new_num_children))\n",
    "        else: \n",
    "            print('{} has {} child'.format(self.name, new_num_children))\n",
    "        self.estimated_insurance_cost()\n",
    "        \n",
    "    def patient_profile(self):\n",
    "        patient_information = {}\n",
    "        patient_information['Name'] = self.name \n",
    "        patient_information['Age'] = self.age\n",
    "        patient_information['Sex'] = self.sex\n",
    "        patient_information['BMI'] = self.bmi\n",
    "        patient_information['Number of children'] = self.num_children\n",
    "        patient_information['Smoker'] = self.smoker\n",
    "        return patient_information\n",
    "    \n",
    "patient1 = Patient(\"John Dee\", 25, 1, 22.2, 0, 0)\n",
    "\n",
    "print(patient1.patient_profile())"
   ]
  },
  {
   "cell_type": "markdown",
   "metadata": {},
   "source": [
    "**Extention** \n",
    "- build up more methods that allow users to update more patient parameter, such as update_bmi or update_smoking_status()  \n",
    "- use try and except statements to ensure that patient data is uploaded using numerical values \n",
    "- update the class so that users can upload lists of patient data rather than just individuals numbers "
   ]
  },
  {
   "cell_type": "code",
   "execution_count": 22,
   "metadata": {},
   "outputs": [
    {
     "name": "stdout",
     "output_type": "stream",
     "text": [
      "John Dee's estimated insurance cost is 1836.0 dollars.\n"
     ]
    }
   ],
   "source": [
    "class Patient:\n",
    "    def __init__(self, name, patient_data):\n",
    "        self.name = name \n",
    "        self.age = patient_data[0]\n",
    "        self.sex = patient_data[1]\n",
    "        self.bmi = patient_data[2]\n",
    "        self.num_children = patient_data[3]\n",
    "        self.smoker = patient_data[4] \n",
    "        \n",
    "    def estimated_insurance_cost(self):\n",
    "        try:\n",
    "            estimated_cost = 250 * self.age - 128 * self.sex + 370 * self.bmi + 425 * self.num_children + 24000 * self.smoker - 12500\n",
    "            print(\"{}'s estimated insurance cost is {} dollars.\".format(self.name, estimated_cost))\n",
    "        except TypeError:\n",
    "            print('TypeError Exception Raised')\n",
    "            \n",
    "patient1 = Patient(\"John Dee\", [25, 1, 22.2, 0, 0])\n",
    "patient1.estimated_insurance_cost()"
   ]
  },
  {
   "cell_type": "code",
   "execution_count": 35,
   "metadata": {},
   "outputs": [
    {
     "name": "stdout",
     "output_type": "stream",
     "text": [
      "John Dee's estimated insurance cost is 1836.0 dollars.\n"
     ]
    }
   ],
   "source": [
    "class Patient:\n",
    "    def __init__(self, name, patient_data):\n",
    "        self.name = name \n",
    "        self.age = patient_data[0]\n",
    "        self.sex = patient_data[1]\n",
    "        self.bmi = patient_data[2]\n",
    "        self.num_children = patient_data[3]\n",
    "        self.smoker = patient_data[4]\n",
    "    def estimated_insurance_cost(self):\n",
    "        try:\n",
    "            estimated_cost = 250 * self.age - 128 * self.sex + 370 * self.bmi + 425 * self.num_children + 24000 * self.smoker - 12500\n",
    "            print(\"{}'s estimated insurance cost is {} dollars.\".format(self.name, estimated_cost))\n",
    "        except TypeError:\n",
    "            print('TypeError Exception Raised')\n",
    "        \n",
    "patient1 = Patient(\"John Dee\", [25, 1, 22.2, 0, 0])\n",
    "patient1.estimated_insurance_cost()"
   ]
  }
 ],
 "metadata": {
  "kernelspec": {
   "display_name": "Python 3",
   "language": "python",
   "name": "python3"
  },
  "language_info": {
   "codemirror_mode": {
    "name": "ipython",
    "version": 3
   },
   "file_extension": ".py",
   "mimetype": "text/x-python",
   "name": "python",
   "nbconvert_exporter": "python",
   "pygments_lexer": "ipython3",
   "version": "3.7.4"
  }
 },
 "nbformat": 4,
 "nbformat_minor": 2
}
